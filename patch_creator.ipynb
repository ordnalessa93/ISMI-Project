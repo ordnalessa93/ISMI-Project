{
 "cells": [
  {
   "cell_type": "code",
   "execution_count": 1,
   "metadata": {},
   "outputs": [],
   "source": [
    "import numpy as np"
   ]
  },
  {
   "cell_type": "code",
   "execution_count": 2,
   "metadata": {},
   "outputs": [],
   "source": [
    "def get_patch(coord, image, size = 250):\n",
    "    \"\"\"\n",
    "    Function that returns a fixed sized patch, centered around a coordinate,\n",
    "    from a given numpy array.\n",
    "    Note: The input coordinates should be a tuple in (x, y, z) format. \n",
    "    \"\"\"\n",
    "    \n",
    "    patch       = np.empty((size, size, size)) # numpy array of the patch\n",
    "    coordinates = list(coord)                  # list of coordinates\n",
    "    offset      = size//2                      # offset \n",
    "    img_shape   = image.shape                  # shape of the image   \n",
    "    \n",
    "    # for each dimension shift the coordinates (only if needed)\n",
    "    for i in range(3):\n",
    "        \n",
    "        # if the patch is out of bouds, shift it\n",
    "        if coordinates[i] + offset > img_shape[i]:\n",
    "            if size % 2 != 0:\n",
    "                coordinates[i] = img_shape[i] - offset - 1\n",
    "            else:\n",
    "                coordinates[i] = img_shape[i] - offset\n",
    "                \n",
    "        if coordinates[i] - offset < 0:\n",
    "            coordinates[i] = 0 + offset\n",
    "    \n",
    "    # get the coordinates\n",
    "    x, y, z = coordinates\n",
    "    \n",
    "    # obtain the desired patch\n",
    "    if size % 2 == 0:\n",
    "        patch = image[x-offset:x+offset,y-offset:y+offset,z-offset:z+offset]\n",
    "    else:\n",
    "        patch = image[x-offset:x+offset+1,y-offset:y+offset+1,z-offset:z+offset+1]\n",
    "    \n",
    "    return patch "
   ]
  },
  {
   "cell_type": "code",
   "execution_count": 3,
   "metadata": {},
   "outputs": [
    {
     "data": {
      "text/plain": [
       "array([[[444, 445],\n",
       "        [454, 455]],\n",
       "\n",
       "       [[544, 545],\n",
       "        [554, 555]]])"
      ]
     },
     "execution_count": 3,
     "metadata": {},
     "output_type": "execute_result"
    }
   ],
   "source": [
    "# execution example\n",
    "coord = (5,5,5)\n",
    "img   = np.arange(1000).reshape((10,10,10))\n",
    "size  = 2\n",
    "\n",
    "get_patch(coord, img, size)"
   ]
  },
  {
   "cell_type": "code",
   "execution_count": null,
   "metadata": {},
   "outputs": [],
   "source": []
  }
 ],
 "metadata": {
  "kernelspec": {
   "display_name": "Python 3",
   "language": "python",
   "name": "python3"
  },
  "language_info": {
   "codemirror_mode": {
    "name": "ipython",
    "version": 3
   },
   "file_extension": ".py",
   "mimetype": "text/x-python",
   "name": "python",
   "nbconvert_exporter": "python",
   "pygments_lexer": "ipython3",
   "version": "3.5.2"
  }
 },
 "nbformat": 4,
 "nbformat_minor": 2
}
