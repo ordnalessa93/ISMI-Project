{
 "cells": [
  {
   "cell_type": "code",
   "execution_count": 29,
   "metadata": {},
   "outputs": [],
   "source": [
    "from data_util import load_image, get_patch\n",
    "from generators_binary import PatchGenerator, PatchSequence\n",
    "from keras.callbacks import ModelCheckpoint, ReduceLROnPlateau\n",
    "from networks_binary import create_initial_model, create_second_model, create_squeezenet3d_model\n",
    "from os.path import join\n",
    "from skimage.transform import rotate\n",
    "from sklearn.metrics import accuracy_score, confusion_matrix\n",
    "from sklearn.model_selection import KFold\n",
    "from scipy.ndimage.interpolation import zoom\n",
    "from PIL.ImageEnhance import Contrast\n",
    "from skimage.exposure import equalize_adapthist\n",
    "\n",
    "from PIL import Image\n",
    "import seaborn as sns\n",
    "%matplotlib inline\n",
    "import matplotlib.pyplot as plt\n",
    "import keras.backend as K\n",
    "import keras\n",
    "import numpy as np\n",
    "import pandas as pd"
   ]
  },
  {
   "cell_type": "code",
   "execution_count": 30,
   "metadata": {},
   "outputs": [],
   "source": [
    "def augf(img, cut=True):\n",
    "    zoomed = False\n",
    "    if np.random.random() > .5:\n",
    "        tmp = np.squeeze(img)\n",
    "        angle = np.random.uniform(0, 90)\n",
    "        tmp = rotate(tmp, angle)\n",
    "        img = np.expand_dims(tmp, -1)\n",
    "    if np.random.random() > .5:\n",
    "        img = np.fliplr(img)\n",
    "    if np.random.random() > .5:\n",
    "        img = np.flipud(img)\n",
    "    if np.random.random() > .5:\n",
    "        tmp = img.reshape(img.shape[0], img.shape[1]*img.shape[2])\n",
    "        tmp = equalize_adapthist(tmp, kernel_size=(5,5,5,1))\n",
    "        img = tmp.reshape(70, 70, 40, 1)\n",
    "        \n",
    "    if np.random.random() > .5:\n",
    "        img = zoom(img, (*np.random.choice([0.9, 1.1], 2), 1,1))\n",
    "        zoomed = True\n",
    "    if cut:\n",
    "        crop_from = [15, 15]\n",
    "        if np.random.random() > .5: # shifting\n",
    "            if zoomed:\n",
    "                crop_from = np.random.randint(0, 23, 2)\n",
    "            else:\n",
    "                crop_from = np.random.randint(0, 30, 2)\n",
    "    \n",
    "        return img[crop_from[0]:crop_from[0] + 40, crop_from[1]:crop_from[1] + 40, :] \n",
    "    return img"
   ]
  },
  {
   "cell_type": "code",
   "execution_count": 32,
   "metadata": {},
   "outputs": [
    {
     "name": "stderr",
     "output_type": "stream",
     "text": [
      "/home/ruc0027/.local/lib/python3.5/site-packages/skimage/util/dtype.py:130: UserWarning: Possible precision loss when converting from float64 to uint16\n",
      "  .format(dtypeobj_in, dtypeobj_out))\n"
     ]
    }
   ],
   "source": [
    "img = np.random.random((70, 70, 40, 1))\n",
    "\n",
    "c = augf(img)"
   ]
  },
  {
   "cell_type": "code",
   "execution_count": 3,
   "metadata": {},
   "outputs": [],
   "source": [
    "data_dir = '/projects/0/ismi2018/FINALPROJECTS/BREAST_3D_ULTRASOUND/shareWithStudents'\n",
    "\n",
    "csv = pd.read_csv(join(data_dir, 'trainingSet.csv'), dtype=str)\n",
    "batch_size = 30"
   ]
  },
  {
   "cell_type": "code",
   "execution_count": 4,
   "metadata": {},
   "outputs": [],
   "source": [
    "unique_patients = csv.patientID.unique()\n",
    "kf = KFold(5, shuffle=True, random_state=42)"
   ]
  },
  {
   "cell_type": "code",
   "execution_count": 5,
   "metadata": {},
   "outputs": [
    {
     "name": "stdout",
     "output_type": "stream",
     "text": [
      "Training fold 1\n",
      "PatchGenerator detected: 239 patch samples.\n",
      "histology\n",
      "2     130\n",
      "20     38\n",
      "21     71\n",
      "Name: histology, dtype: int64\n",
      "PatchSequence detected: 59 patch samples.\n",
      "histology\n",
      "2     36\n",
      "20     5\n",
      "21    18\n",
      "Name: histology, dtype: int64\n"
     ]
    },
    {
     "name": "stderr",
     "output_type": "stream",
     "text": [
      "/home/ruc0027/.local/lib/python3.5/site-packages/keras/engine/training.py:2087: UserWarning: Using a generator with `use_multiprocessing=True` and multiple workers may duplicate your data. Please consider using the`keras.utils.Sequence class.\n",
      "  UserWarning('Using a generator with `use_multiprocessing=True`'\n"
     ]
    },
    {
     "name": "stdout",
     "output_type": "stream",
     "text": [
      "Epoch 1/30\n"
     ]
    },
    {
     "name": "stderr",
     "output_type": "stream",
     "text": [
      "Traceback (most recent call last):\n",
      "  File \"/home/ruc0027/.local/lib/python3.5/site-packages/keras/utils/data_utils.py\", line 677, in _data_generator_task\n",
      "    generator_output = next(self._generator)\n",
      "  File \"/nfs/home1/ruc0027/ISMI-Project/generators_binary.py\", line 33, in __next__\n",
      "    return self.next()\n",
      "  File \"/nfs/home1/ruc0027/ISMI-Project/generators_binary.py\", line 98, in next\n",
      "    batch_x = np.stack(images).astype(K.floatx())\n",
      "  File \"/hpc/sw/python-3.5.2/lib/python3.5/site-packages/numpy/core/shape_base.py\", line 347, in stack\n",
      "    raise ValueError('all input arrays must have the same shape')\n",
      "ValueError: all input arrays must have the same shape\n"
     ]
    },
    {
     "ename": "ValueError",
     "evalue": "all input arrays must have the same shape",
     "output_type": "error",
     "traceback": [
      "\u001b[0;31m---------------------------------------------------------------------------\u001b[0m",
      "\u001b[0;31mValueError\u001b[0m                                Traceback (most recent call last)",
      "\u001b[0;32m<ipython-input-5-f28c0cea0a65>\u001b[0m in \u001b[0;36m<module>\u001b[0;34m()\u001b[0m\n\u001b[1;32m     38\u001b[0m                                 \u001b[0muse_multiprocessing\u001b[0m\u001b[0;34m=\u001b[0m\u001b[0;32mTrue\u001b[0m\u001b[0;34m,\u001b[0m\u001b[0;34m\u001b[0m\u001b[0m\n\u001b[1;32m     39\u001b[0m                                 \u001b[0mworkers\u001b[0m\u001b[0;34m=\u001b[0m\u001b[0;36m4\u001b[0m\u001b[0;34m,\u001b[0m\u001b[0;34m\u001b[0m\u001b[0m\n\u001b[0;32m---> 40\u001b[0;31m                                 callbacks=[cp, lr])\n\u001b[0m\u001b[1;32m     41\u001b[0m     \u001b[0;31m# Plot training history\u001b[0m\u001b[0;34m\u001b[0m\u001b[0;34m\u001b[0m\u001b[0m\n\u001b[1;32m     42\u001b[0m     \u001b[0mplt\u001b[0m\u001b[0;34m.\u001b[0m\u001b[0mfigure\u001b[0m\u001b[0;34m(\u001b[0m\u001b[0;34m)\u001b[0m\u001b[0;34m\u001b[0m\u001b[0m\n",
      "\u001b[0;32m~/.local/lib/python3.5/site-packages/keras/legacy/interfaces.py\u001b[0m in \u001b[0;36mwrapper\u001b[0;34m(*args, **kwargs)\u001b[0m\n\u001b[1;32m     89\u001b[0m                 warnings.warn('Update your `' + object_name +\n\u001b[1;32m     90\u001b[0m                               '` call to the Keras 2 API: ' + signature, stacklevel=2)\n\u001b[0;32m---> 91\u001b[0;31m             \u001b[0;32mreturn\u001b[0m \u001b[0mfunc\u001b[0m\u001b[0;34m(\u001b[0m\u001b[0;34m*\u001b[0m\u001b[0margs\u001b[0m\u001b[0;34m,\u001b[0m \u001b[0;34m**\u001b[0m\u001b[0mkwargs\u001b[0m\u001b[0;34m)\u001b[0m\u001b[0;34m\u001b[0m\u001b[0m\n\u001b[0m\u001b[1;32m     92\u001b[0m         \u001b[0mwrapper\u001b[0m\u001b[0;34m.\u001b[0m\u001b[0m_original_function\u001b[0m \u001b[0;34m=\u001b[0m \u001b[0mfunc\u001b[0m\u001b[0;34m\u001b[0m\u001b[0m\n\u001b[1;32m     93\u001b[0m         \u001b[0;32mreturn\u001b[0m \u001b[0mwrapper\u001b[0m\u001b[0;34m\u001b[0m\u001b[0m\n",
      "\u001b[0;32m~/.local/lib/python3.5/site-packages/keras/engine/training.py\u001b[0m in \u001b[0;36mfit_generator\u001b[0;34m(self, generator, steps_per_epoch, epochs, verbose, callbacks, validation_data, validation_steps, class_weight, max_queue_size, workers, use_multiprocessing, shuffle, initial_epoch)\u001b[0m\n\u001b[1;32m   2190\u001b[0m                 \u001b[0mbatch_index\u001b[0m \u001b[0;34m=\u001b[0m \u001b[0;36m0\u001b[0m\u001b[0;34m\u001b[0m\u001b[0m\n\u001b[1;32m   2191\u001b[0m                 \u001b[0;32mwhile\u001b[0m \u001b[0msteps_done\u001b[0m \u001b[0;34m<\u001b[0m \u001b[0msteps_per_epoch\u001b[0m\u001b[0;34m:\u001b[0m\u001b[0;34m\u001b[0m\u001b[0m\n\u001b[0;32m-> 2192\u001b[0;31m                     \u001b[0mgenerator_output\u001b[0m \u001b[0;34m=\u001b[0m \u001b[0mnext\u001b[0m\u001b[0;34m(\u001b[0m\u001b[0moutput_generator\u001b[0m\u001b[0;34m)\u001b[0m\u001b[0;34m\u001b[0m\u001b[0m\n\u001b[0m\u001b[1;32m   2193\u001b[0m \u001b[0;34m\u001b[0m\u001b[0m\n\u001b[1;32m   2194\u001b[0m                     \u001b[0;32mif\u001b[0m \u001b[0;32mnot\u001b[0m \u001b[0mhasattr\u001b[0m\u001b[0;34m(\u001b[0m\u001b[0mgenerator_output\u001b[0m\u001b[0;34m,\u001b[0m \u001b[0;34m'__len__'\u001b[0m\u001b[0;34m)\u001b[0m\u001b[0;34m:\u001b[0m\u001b[0;34m\u001b[0m\u001b[0m\n",
      "\u001b[0;32m~/.local/lib/python3.5/site-packages/keras/utils/data_utils.py\u001b[0m in \u001b[0;36mget\u001b[0;34m(self)\u001b[0m\n\u001b[1;32m    791\u001b[0m             \u001b[0msuccess\u001b[0m\u001b[0;34m,\u001b[0m \u001b[0mvalue\u001b[0m \u001b[0;34m=\u001b[0m \u001b[0mself\u001b[0m\u001b[0;34m.\u001b[0m\u001b[0mqueue\u001b[0m\u001b[0;34m.\u001b[0m\u001b[0mget\u001b[0m\u001b[0;34m(\u001b[0m\u001b[0;34m)\u001b[0m\u001b[0;34m\u001b[0m\u001b[0m\n\u001b[1;32m    792\u001b[0m             \u001b[0;32mif\u001b[0m \u001b[0;32mnot\u001b[0m \u001b[0msuccess\u001b[0m\u001b[0;34m:\u001b[0m\u001b[0;34m\u001b[0m\u001b[0m\n\u001b[0;32m--> 793\u001b[0;31m                 \u001b[0msix\u001b[0m\u001b[0;34m.\u001b[0m\u001b[0mreraise\u001b[0m\u001b[0;34m(\u001b[0m\u001b[0mvalue\u001b[0m\u001b[0;34m.\u001b[0m\u001b[0m__class__\u001b[0m\u001b[0;34m,\u001b[0m \u001b[0mvalue\u001b[0m\u001b[0;34m,\u001b[0m \u001b[0mvalue\u001b[0m\u001b[0;34m.\u001b[0m\u001b[0m__traceback__\u001b[0m\u001b[0;34m)\u001b[0m\u001b[0;34m\u001b[0m\u001b[0m\n\u001b[0m",
      "\u001b[0;32m/hpc/sw/python-3.5.2/lib/python3.5/site-packages/six.py\u001b[0m in \u001b[0;36mreraise\u001b[0;34m(tp, value, tb)\u001b[0m\n\u001b[1;32m    684\u001b[0m         \u001b[0;32mif\u001b[0m \u001b[0mvalue\u001b[0m\u001b[0;34m.\u001b[0m\u001b[0m__traceback__\u001b[0m \u001b[0;32mis\u001b[0m \u001b[0;32mnot\u001b[0m \u001b[0mtb\u001b[0m\u001b[0;34m:\u001b[0m\u001b[0;34m\u001b[0m\u001b[0m\n\u001b[1;32m    685\u001b[0m             \u001b[0;32mraise\u001b[0m \u001b[0mvalue\u001b[0m\u001b[0;34m.\u001b[0m\u001b[0mwith_traceback\u001b[0m\u001b[0;34m(\u001b[0m\u001b[0mtb\u001b[0m\u001b[0;34m)\u001b[0m\u001b[0;34m\u001b[0m\u001b[0m\n\u001b[0;32m--> 686\u001b[0;31m         \u001b[0;32mraise\u001b[0m \u001b[0mvalue\u001b[0m\u001b[0;34m\u001b[0m\u001b[0m\n\u001b[0m\u001b[1;32m    687\u001b[0m \u001b[0;34m\u001b[0m\u001b[0m\n\u001b[1;32m    688\u001b[0m \u001b[0;32melse\u001b[0m\u001b[0;34m:\u001b[0m\u001b[0;34m\u001b[0m\u001b[0m\n",
      "\u001b[0;31mValueError\u001b[0m: all input arrays must have the same shape"
     ]
    }
   ],
   "source": [
    "accuracies = []\n",
    "for i, (train_patients_idxs, val_patients_idxs) in enumerate(kf.split(unique_patients), start=1):\n",
    "    print('Training fold {}'.format(i))\n",
    "    \n",
    "    train_patients = unique_patients[train_patients_idxs]\n",
    "    val_patients = unique_patients[val_patients_idxs]\n",
    "    \n",
    "    train_csv = csv.loc[csv['patientID'].isin(train_patients), :]\n",
    "    val_csv = csv.loc[csv['patientID'].isin(val_patients), :]\n",
    "    \n",
    "    training_gen = PatchGenerator(\n",
    "        input_dir=data_dir,\n",
    "        dataframe=train_csv,\n",
    "        batch_size=batch_size,\n",
    "        augmentation_fn=augf\n",
    "    )\n",
    "    \n",
    "    # Print label balance\n",
    "    print(train_csv.groupby('histology').histology.count())\n",
    "\n",
    "    valid_seq = PatchSequence(\n",
    "        input_dir=data_dir,\n",
    "        dataframe=val_csv,\n",
    "        batch_size=batch_size\n",
    "    )\n",
    "    \n",
    "    print(val_csv.groupby('histology').histology.count())\n",
    "    \n",
    "    net = create_initial_model(patch_size=40)\n",
    "    net.compile(loss='binary_crossentropy', optimizer='adam', metrics=['accuracy'])\n",
    "    save_path = 'first_model_fold_{}.h5'.format(i)\n",
    "    cp = ModelCheckpoint(save_path, monitor='val_loss', save_best_only=True)\n",
    "    lr = ReduceLROnPlateau(monitor='val_loss', factor=.5, min_lr=1e-6, patience=5)\n",
    "    history = net.fit_generator(training_gen,\n",
    "                                validation_data=valid_seq,\n",
    "                                steps_per_epoch=len(training_gen)*5,\n",
    "                                epochs=30,\n",
    "                                use_multiprocessing=True,\n",
    "                                workers=4,\n",
    "                                callbacks=[cp, lr])\n",
    "    # Plot training history\n",
    "    plt.figure()\n",
    "    plt.plot(history.history['acc'])\n",
    "    plt.plot(history.history['val_acc'])\n",
    "    plt.plot(history.history['loss'])\n",
    "    plt.plot(history.history['val_loss'])\n",
    "    plt.legend(['acc', 'val_acc', 'loss', 'val_loss'])\n",
    "    plt.show()\n",
    "    \n",
    "    # Plot confusion matrix\n",
    "    y_true = valid_seq.get_all_labels()\n",
    "    y_true[y_true == 2] = 0\n",
    "    y_true[y_true == 20] = 1\n",
    "    y_true[y_true == 21] = 2\n",
    "    best_model = keras.models.load_model(save_path)\n",
    "    y_pred = best_model.predict_generator(valid_seq,\n",
    "                                          use_multiprocessing=True,\n",
    "                                          workers=4)\n",
    "    y_pred = np.argmax(y_pred, axis=1)\n",
    "    cm = confusion_matrix(y_true, y_pred)\n",
    "    plt.figure()\n",
    "    sns.heatmap(cm, annot=True)\n",
    "    plt.show()\n",
    "    \n",
    "    # Store fold accuracy\n",
    "    accuracies.append(accuracy_score(y_true, y_pred))\n",
    "\n",
    "print('Mean accuracy: {:.4f}'.format(np.mean(accuracies)))"
   ]
  },
  {
   "cell_type": "code",
   "execution_count": null,
   "metadata": {},
   "outputs": [],
   "source": [
    "# Investigate incorrect predictions\n",
    "\n",
    "kf = KFold(5, shuffle=True, random_state=42)\n",
    "for i, (train_patients_idxs, val_patients_idxs) in enumerate(kf.split(unique_patients), start=1):\n",
    "    print('Investigating fold {}'.format(i))\n",
    "    \n",
    "    load_path = 'first_model_fold_{}.h5'.format(i)\n",
    "    model = keras.models.load_model(load_path)\n",
    "    \n",
    "    val_patients = unique_patients[val_patients_idxs]\n",
    "    val_csv = csv.loc[csv['patientID'].isin(val_patients), :]\n",
    "    valid_seq = PatchSequence(\n",
    "        input_dir=data_dir,\n",
    "        dataframe=val_csv,\n",
    "        batch_size=batch_size\n",
    "    )\n",
    "    \n",
    "    y_true = valid_seq.get_all_labels()\n",
    "    y_true[y_true == 2] = 0\n",
    "    y_true[y_true == 20] = 1\n",
    "    y_true[y_true == 21] = 2\n",
    "    y_pred = model.predict_generator(valid_seq,\n",
    "                                     use_multiprocessing=True,\n",
    "                                     workers=4)\n",
    "    y_pred = np.argmax(y_pred, axis=1)\n",
    "    \n",
    "    incorrect_idxs = np.where(y_true != y_pred)[0]\n",
    "    \n",
    "    for i in incorrect_idxs:\n",
    "        pID = val_csv.iloc[i, :].patientID\n",
    "        sID = val_csv.iloc[i, :].studyID\n",
    "        scN = val_csv.iloc[i, :].scanName\n",
    "        y, x, z = val_csv.iloc[i, :][['annotationLowResolution{}'.format(i) for i in range(1, 4)]].values.astype(np.uint8)\n",
    "        img = load_image(pID, sID, scN)\n",
    "        patch = np.squeeze(get_patch(img, (y, x, z), 40))\n",
    "        \n",
    "        # Show full image\n",
    "        plt.figure()\n",
    "        plt.subplot(121)\n",
    "        plt.imshow(img[..., z], cmap='gray')\n",
    "        plt.scatter(y, x, edgecolors='r', facecolors='none', s=1000)\n",
    "        \n",
    "        # Show patch\n",
    "        plt.subplot(122)\n",
    "        plt.imshow(patch[..., patch.shape[-1]//2], cmap='gray')\n",
    "        print('Predicted: {}'.format(y_pred[i]))\n",
    "        print('Actual: {}'.format(y_true[i]))\n",
    "        \n",
    "        plt.show()\n",
    "        \n",
    "    print('-----------------------------------------------------------------')"
   ]
  }
 ],
 "metadata": {
  "kernelspec": {
   "display_name": "Python 3",
   "language": "python",
   "name": "python3"
  },
  "language_info": {
   "codemirror_mode": {
    "name": "ipython",
    "version": 3
   },
   "file_extension": ".py",
   "mimetype": "text/x-python",
   "name": "python",
   "nbconvert_exporter": "python",
   "pygments_lexer": "ipython3",
   "version": "3.5.2"
  }
 },
 "nbformat": 4,
 "nbformat_minor": 2
}
