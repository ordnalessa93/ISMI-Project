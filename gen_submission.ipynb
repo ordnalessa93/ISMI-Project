{
 "cells": [
  {
   "cell_type": "code",
   "execution_count": 5,
   "metadata": {},
   "outputs": [],
   "source": [
    "import pandas as pd\n",
    "from generators import PatchGenerator, PatchSequence"
   ]
  },
  {
   "cell_type": "code",
   "execution_count": 15,
   "metadata": {},
   "outputs": [],
   "source": [
    "def create_submisison(test_df, model_name, data_dir = './data', result_dir = './'):\n",
    "    '''\n",
    "    Function that generates a submission taking as an imput the corresponding test\n",
    "    dataframe, the name of the best model to be loaded, the directory of the data\n",
    "    and the directory of the model\n",
    "    '''\n",
    "    \n",
    "    print('Evaluating test set ...')\n",
    "\n",
    "    # load the best model\n",
    "    model_path = join(result_dir, model_name)\n",
    "    best_model = keras.models.load_model(model_path)\n",
    "\n",
    "    # create a test sequence\n",
    "    test_seq = PatchSequence(\n",
    "        input_dir = './data', \n",
    "        dataframe = test_df, \n",
    "        batch_size = 32,\n",
    "        dataset = 'test'\n",
    "    )\n",
    "\n",
    "    # run the model over the test samples\n",
    "    y_pred = best_model.predict_generator(test_seq,\n",
    "                                          use_multiprocessing=True,\n",
    "                                          workers=4)\n",
    "    \n",
    "    # get the argument with the higher confidence score\n",
    "    y_pred = np.argmax(y_pred, axis=1)\n",
    "    \n",
    "    # convert the indices in the correct labels\n",
    "    y_true[y_true == 0] = 2\n",
    "    y_true[y_true == 1] = 20\n",
    "    y_true[y_true == 2] = 21\n",
    "\n",
    "    # store the cases and corresponding class\n",
    "    column_names = ['case', 'class']\n",
    "    values = []\n",
    "    for i in range(len(test_df)):\n",
    "        case = test_seq.loc[i]['patientID'] + '_' + test_seq.loc[i]['studyID'] + '_' + test_seq.loc[i]['scanName']\n",
    "        values.append(case, y_true[i])\n",
    "    \n",
    "    # create DataFrame with the values and export it to \".csv\" format\n",
    "    df = pd.DataFrame(data = values, columns = column_names)\n",
    "    df.to_csv(join(result_dir, 'submission.csv'), index=None)"
   ]
  },
  {
   "cell_type": "code",
   "execution_count": null,
   "metadata": {},
   "outputs": [],
   "source": []
  }
 ],
 "metadata": {
  "kernelspec": {
   "display_name": "Python 3",
   "language": "python",
   "name": "python3"
  },
  "language_info": {
   "codemirror_mode": {
    "name": "ipython",
    "version": 3
   },
   "file_extension": ".py",
   "mimetype": "text/x-python",
   "name": "python",
   "nbconvert_exporter": "python",
   "pygments_lexer": "ipython3",
   "version": "3.5.2"
  }
 },
 "nbformat": 4,
 "nbformat_minor": 2
}
